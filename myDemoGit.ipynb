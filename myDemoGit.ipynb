{
  "nbformat": 4,
  "nbformat_minor": 0,
  "metadata": {
    "colab": {
      "name": "myDemoGit.ipynb",
      "provenance": [],
      "authorship_tag": "ABX9TyMoo/eVx82F9iLPSC79hRaI",
      "include_colab_link": true
    },
    "kernelspec": {
      "name": "python3",
      "display_name": "Python 3"
    },
    "language_info": {
      "name": "python"
    }
  },
  "cells": [
    {
      "cell_type": "markdown",
      "metadata": {
        "id": "view-in-github",
        "colab_type": "text"
      },
      "source": [
        "<a href=\"https://colab.research.google.com/github/HomeWork191/ditDemo/blob/main/myDemoGit.ipynb\" target=\"_parent\"><img src=\"https://colab.research.google.com/assets/colab-badge.svg\" alt=\"Open In Colab\"/></a>"
      ]
    },
    {
      "cell_type": "code",
      "execution_count": null,
      "metadata": {
        "id": "TVEvL9I71mO9",
        "colab": {
          "base_uri": "https://localhost:8080/"
        },
        "outputId": "29d0b332-d225-4b08-9910-29c6a39e573f"
      },
      "outputs": [
        {
          "output_type": "stream",
          "name": "stdout",
          "text": [
            "Hellow GitHub\n"
          ]
        }
      ],
      "source": [
        "print(\"Hellow GitHub\")"
      ]
    },
    {
      "cell_type": "code",
      "source": [
        "print(\"second time to say hellow\")"
      ],
      "metadata": {
        "id": "Xj9U5dRO2lv6",
        "outputId": "89252bcb-169c-4cf7-9384-f09e60616a07",
        "colab": {
          "base_uri": "https://localhost:8080/"
        }
      },
      "execution_count": 1,
      "outputs": [
        {
          "output_type": "stream",
          "name": "stdout",
          "text": [
            "second time to say hellow\n"
          ]
        }
      ]
    }
  ]
}